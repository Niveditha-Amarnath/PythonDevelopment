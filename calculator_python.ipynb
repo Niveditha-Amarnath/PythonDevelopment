{
  "nbformat": 4,
  "nbformat_minor": 0,
  "metadata": {
    "colab": {
      "provenance": []
    },
    "kernelspec": {
      "name": "python3",
      "display_name": "Python 3"
    },
    "language_info": {
      "name": "python"
    }
  },
  "cells": [
    {
      "cell_type": "code",
      "source": [
        "import sys\n",
        "import math"
      ],
      "metadata": {
        "id": "vZQh3sZmea64"
      },
      "execution_count": null,
      "outputs": []
    },
    {
      "cell_type": "code",
      "execution_count": null,
      "metadata": {
        "id": "KTQ8tXRBdRj7"
      },
      "outputs": [],
      "source": [
        "def calc(term):\n",
        "    term = term.replace(' ', '')\n",
        "    term = term.replace('^', '**')\n",
        "    term = term.replace('=', '')\n",
        "    term = term.replace('?', '')\n",
        "    term = term.replace('%', '/100.00')\n",
        "    term = term.replace('rad', 'radians')\n",
        "    term = term.replace('mod', '%')\n",
        "    term = term.replace('aval', 'abs')\n",
        "\n",
        "    functions = ['sin', 'cos', 'tan', 'pow', 'cosh', 'sinh', 'tanh', 'sqrt', 'pi', 'radians', 'e']\n",
        "    term = term.lower()\n",
        "\n",
        "    for func in functions:\n",
        "        if func in term:\n",
        "            withmath = 'math.' + func\n",
        "            term = term.replace(func, withmath)\n",
        "\n",
        "    try:\n",
        "         term = eval(term)\n",
        "    except ZeroDivisionError:\n",
        "        print(\"Can't divide by 0.  Please try again.\")\n",
        "    except NameError:\n",
        "        print('Invalid input.  Please try again')\n",
        "    except AttributeError:\n",
        "        print('Please check usage method and try again.')\n",
        "    except TypeError:\n",
        "        print(\"please enter inputs of correct datatype \")\n",
        "    except Exception:\n",
        "        print(\"Wrong operator\")\n",
        "    return term\n"
      ]
    },
    {
      "cell_type": "code",
      "source": [
        "def result(term):\n",
        "    print(\"\\n\" + str(calc(term)))\n",
        "\n",
        "def main():\n",
        "    if sys.version_info.major >= 3:\n",
        "        while True:\n",
        "            k = input(\"\\n Give 'quit' to exit Or provide the question to Calculate: \")\n",
        "            if k == 'quit':\n",
        "                break\n",
        "            result(k)\n",
        "    else:\n",
        "        while True:\n",
        "            k = raw_input(\"\\n Give 'quit' to exit Or provide the question to Calculate: \")\n",
        "            if k == 'quit':\n",
        "                break\n",
        "            result(k)\n",
        "if __name__ == '__main__':\n",
        "    main()"
      ],
      "metadata": {
        "id": "w1R0EQxKevX7"
      },
      "execution_count": null,
      "outputs": []
    }
  ]
}