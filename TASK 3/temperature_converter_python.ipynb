{
  "nbformat": 4,
  "nbformat_minor": 0,
  "metadata": {
    "colab": {
      "provenance": []
    },
    "kernelspec": {
      "name": "python3",
      "display_name": "Python 3"
    },
    "language_info": {
      "name": "python"
    }
  },
  "cells": [
    {
      "cell_type": "code",
      "execution_count": null,
      "metadata": {
        "colab": {
          "base_uri": "https://localhost:8080/"
        },
        "id": "oT2LXOL-7NBN",
        "outputId": "14503f07-e901-4d35-d5b6-99a2d6f616f8"
      },
      "outputs": [
        {
          "metadata": {
            "tags": null
          },
          "name": "stdout",
          "output_type": "stream",
          "text": [
            " ENTER '1' ----> For CENTIGRADE Scale to FAHRENHEIT Scale conversion,\n",
            " ENTER '2' ----> For FAHRENHEIT Scale to CENTIGRADE Scale conversion ,\n",
            " ENTER '0' ----> To EXIT\n",
            "\n",
            "\n",
            "\n",
            " PLEASE PROVIDE CORRECT INPUT!\n",
            " \n",
            " ENTER '1' ----> For CENTIGRADE Scale to FAHRENHEIT Scale conversion,\n",
            " ENTER '2' ----> For FAHRENHEIT Scale to CENTIGRADE Scale conversion ,\n",
            " ENTER '0' ----> To EXIT\n",
            "\n",
            "\n",
            "\n",
            " The Temperature in FAHRENHEIT Scale is :-- 131.0°F\n",
            "\n",
            " ENTER '1' ----> For CENTIGRADE Scale to FAHRENHEIT Scale conversion,\n",
            " ENTER '2' ----> For FAHRENHEIT Scale to CENTIGRADE Scale conversion ,\n",
            " ENTER '0' ----> To EXIT\n",
            "\n",
            "\n",
            "\n",
            "The Temperature in CENTIGRADE Scale is :-- 43.88888888888889°C\n",
            "\n",
            " ENTER '1' ----> For CENTIGRADE Scale to FAHRENHEIT Scale conversion,\n",
            " ENTER '2' ----> For FAHRENHEIT Scale to CENTIGRADE Scale conversion ,\n",
            " ENTER '0' ----> To EXIT\n",
            "\n",
            "\n",
            "\n",
            " THANK YOU \n",
            "\n",
            " ENTER '1' ----> For CENTIGRADE Scale to FAHRENHEIT Scale conversion,\n",
            " ENTER '2' ----> For FAHRENHEIT Scale to CENTIGRADE Scale conversion ,\n",
            " ENTER '0' ----> To EXIT\n",
            "\n",
            " PLEASE PROVIDE CORRECT INPUT!\n",
            " \n",
            " ENTER '1' ----> For CENTIGRADE Scale to FAHRENHEIT Scale conversion,\n",
            " ENTER '2' ----> For FAHRENHEIT Scale to CENTIGRADE Scale conversion ,\n",
            " ENTER '0' ----> To EXIT\n",
            "\n",
            " PLEASE PROVIDE CORRECT INPUT!\n",
            " \n",
            " ENTER '1' ----> For CENTIGRADE Scale to FAHRENHEIT Scale conversion,\n",
            " ENTER '2' ----> For FAHRENHEIT Scale to CENTIGRADE Scale conversion ,\n",
            " ENTER '0' ----> To EXIT\n"
          ]
        }
      ],
      "source": [
        "def temp():\n",
        "    try:\n",
        "        print(\" ENTER '1' ----> For CENTIGRADE Scale to FAHRENHEIT Scale conversion,\\n ENTER '2' ----> For FAHRENHEIT Scale to CENTIGRADE Scale conversion ,\\n ENTER '0' ----> To EXIT\")\n",
        "        U = int(input())\n",
        "        print(\"\\n\")\n",
        "        if (U == 1):\n",
        "            try:\n",
        "                C = float(input(\" Enter Temperature in CENTIGRADE Scale: \\t\"))\n",
        "                re = float((9.0 * C) / 5.0 + (32.0))\n",
        "                print(\"\\n The Temperature in FAHRENHEIT Scale is :-- {}°F\\n\".format(re))\n",
        "            except:\n",
        "                print(\"\\n PLEASE PROVIDE CORRECT INPUT! \")\n",
        "        elif (U == 2):\n",
        "            try:\n",
        "                F = float(input(\" Enter Temperature in FAHRENHEIT Scale: \\t\"))\n",
        "                re = float((F - 32.0) * (5.0 / 9.0))\n",
        "                print(\"\\nThe Temperature in CENTIGRADE Scale is :-- {}°C\\n\".format(re))\n",
        "            except:\n",
        "                print(\"\\n PLEASE PROVIDE CORRECT INPUT! \\n\")\n",
        "        elif (U == 0):\n",
        "            print(\"\\n THANK YOU \\n\")\n",
        "            exit()\n",
        "        else:\n",
        "            print(\"\\n PLEASE PROVIDE CORRECT INPUT!\\n \")\n",
        "    except:\n",
        "        print(\"\\n PLEASE PROVIDE CORRECT INPUT!\\n \")\n",
        "    temp()\n",
        "temp()"
      ]
    }
  ]
}
